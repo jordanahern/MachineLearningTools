{
 "cells": [
  {
   "cell_type": "code",
   "execution_count": 1,
   "id": "54bef07b-856a-42aa-8bc9-6de146929f87",
   "metadata": {},
   "outputs": [
    {
     "data": {
      "text/html": [
       "<div>\n",
       "<style scoped>\n",
       "    .dataframe tbody tr th:only-of-type {\n",
       "        vertical-align: middle;\n",
       "    }\n",
       "\n",
       "    .dataframe tbody tr th {\n",
       "        vertical-align: top;\n",
       "    }\n",
       "\n",
       "    .dataframe thead th {\n",
       "        text-align: right;\n",
       "    }\n",
       "</style>\n",
       "<table border=\"1\" class=\"dataframe\">\n",
       "  <thead>\n",
       "    <tr style=\"text-align: right;\">\n",
       "      <th></th>\n",
       "      <th>age</th>\n",
       "      <th>height</th>\n",
       "      <th>income</th>\n",
       "    </tr>\n",
       "  </thead>\n",
       "  <tbody>\n",
       "    <tr>\n",
       "      <th>count</th>\n",
       "      <td>59946.000000</td>\n",
       "      <td>59943.000000</td>\n",
       "      <td>59946.000000</td>\n",
       "    </tr>\n",
       "    <tr>\n",
       "      <th>mean</th>\n",
       "      <td>32.340290</td>\n",
       "      <td>68.295281</td>\n",
       "      <td>20033.222534</td>\n",
       "    </tr>\n",
       "    <tr>\n",
       "      <th>std</th>\n",
       "      <td>9.452779</td>\n",
       "      <td>3.994803</td>\n",
       "      <td>97346.192104</td>\n",
       "    </tr>\n",
       "    <tr>\n",
       "      <th>min</th>\n",
       "      <td>18.000000</td>\n",
       "      <td>1.000000</td>\n",
       "      <td>-1.000000</td>\n",
       "    </tr>\n",
       "    <tr>\n",
       "      <th>25%</th>\n",
       "      <td>26.000000</td>\n",
       "      <td>66.000000</td>\n",
       "      <td>-1.000000</td>\n",
       "    </tr>\n",
       "    <tr>\n",
       "      <th>50%</th>\n",
       "      <td>30.000000</td>\n",
       "      <td>68.000000</td>\n",
       "      <td>-1.000000</td>\n",
       "    </tr>\n",
       "    <tr>\n",
       "      <th>75%</th>\n",
       "      <td>37.000000</td>\n",
       "      <td>71.000000</td>\n",
       "      <td>-1.000000</td>\n",
       "    </tr>\n",
       "    <tr>\n",
       "      <th>max</th>\n",
       "      <td>110.000000</td>\n",
       "      <td>95.000000</td>\n",
       "      <td>1000000.000000</td>\n",
       "    </tr>\n",
       "  </tbody>\n",
       "</table>\n",
       "</div>"
      ],
      "text/plain": [
       "                age        height          income\n",
       "count  59946.000000  59943.000000    59946.000000\n",
       "mean      32.340290     68.295281    20033.222534\n",
       "std        9.452779      3.994803    97346.192104\n",
       "min       18.000000      1.000000       -1.000000\n",
       "25%       26.000000     66.000000       -1.000000\n",
       "50%       30.000000     68.000000       -1.000000\n",
       "75%       37.000000     71.000000       -1.000000\n",
       "max      110.000000     95.000000  1000000.000000"
      ]
     },
     "execution_count": 1,
     "metadata": {},
     "output_type": "execute_result"
    }
   ],
   "source": [
    "import pandas\n",
    "dfAll = pandas.read_csv(\"okcupid_profiles.csv\")\n",
    "dfAll.shape\n",
    "dfAll.describe()"
   ]
  },
  {
   "cell_type": "code",
   "execution_count": 2,
   "id": "06792da8-4803-40e1-8d40-5a19c9eca981",
   "metadata": {},
   "outputs": [
    {
     "data": {
      "text/html": [
       "<div>\n",
       "<style scoped>\n",
       "    .dataframe tbody tr th:only-of-type {\n",
       "        vertical-align: middle;\n",
       "    }\n",
       "\n",
       "    .dataframe tbody tr th {\n",
       "        vertical-align: top;\n",
       "    }\n",
       "\n",
       "    .dataframe thead th {\n",
       "        text-align: right;\n",
       "    }\n",
       "</style>\n",
       "<table border=\"1\" class=\"dataframe\">\n",
       "  <thead>\n",
       "    <tr style=\"text-align: right;\">\n",
       "      <th></th>\n",
       "      <th>age</th>\n",
       "      <th>height</th>\n",
       "      <th>income</th>\n",
       "    </tr>\n",
       "  </thead>\n",
       "  <tbody>\n",
       "    <tr>\n",
       "      <th>count</th>\n",
       "      <td>11502.000000</td>\n",
       "      <td>11502.000000</td>\n",
       "      <td>11502.000000</td>\n",
       "    </tr>\n",
       "    <tr>\n",
       "      <th>mean</th>\n",
       "      <td>32.468179</td>\n",
       "      <td>69.114589</td>\n",
       "      <td>104319.248826</td>\n",
       "    </tr>\n",
       "    <tr>\n",
       "      <th>std</th>\n",
       "      <td>9.747387</td>\n",
       "      <td>3.913451</td>\n",
       "      <td>201277.724419</td>\n",
       "    </tr>\n",
       "    <tr>\n",
       "      <th>min</th>\n",
       "      <td>18.000000</td>\n",
       "      <td>26.000000</td>\n",
       "      <td>20000.000000</td>\n",
       "    </tr>\n",
       "    <tr>\n",
       "      <th>25%</th>\n",
       "      <td>25.000000</td>\n",
       "      <td>67.000000</td>\n",
       "      <td>20000.000000</td>\n",
       "    </tr>\n",
       "    <tr>\n",
       "      <th>50%</th>\n",
       "      <td>30.000000</td>\n",
       "      <td>69.000000</td>\n",
       "      <td>50000.000000</td>\n",
       "    </tr>\n",
       "    <tr>\n",
       "      <th>75%</th>\n",
       "      <td>37.000000</td>\n",
       "      <td>72.000000</td>\n",
       "      <td>100000.000000</td>\n",
       "    </tr>\n",
       "    <tr>\n",
       "      <th>max</th>\n",
       "      <td>69.000000</td>\n",
       "      <td>95.000000</td>\n",
       "      <td>1000000.000000</td>\n",
       "    </tr>\n",
       "  </tbody>\n",
       "</table>\n",
       "</div>"
      ],
      "text/plain": [
       "                age        height          income\n",
       "count  11502.000000  11502.000000    11502.000000\n",
       "mean      32.468179     69.114589   104319.248826\n",
       "std        9.747387      3.913451   201277.724419\n",
       "min       18.000000     26.000000    20000.000000\n",
       "25%       25.000000     67.000000    20000.000000\n",
       "50%       30.000000     69.000000    50000.000000\n",
       "75%       37.000000     72.000000   100000.000000\n",
       "max       69.000000     95.000000  1000000.000000"
      ]
     },
     "execution_count": 2,
     "metadata": {},
     "output_type": "execute_result"
    }
   ],
   "source": [
    "dfAll = dfAll.query( \"height >= 24\")\n",
    "dfAll = dfAll.query( \"income >= 0\")\n",
    "dfAll.describe()"
   ]
  },
  {
   "cell_type": "code",
   "execution_count": 3,
   "id": "77a50fcb-9e0c-4f60-a804-5abda99fdebd",
   "metadata": {},
   "outputs": [
    {
     "data": {
      "text/plain": [
       "(6000, 31)"
      ]
     },
     "execution_count": 3,
     "metadata": {},
     "output_type": "execute_result"
    }
   ],
   "source": [
    "df = dfAll.sample(n=6000)\n",
    "df.shape"
   ]
  },
  {
   "cell_type": "code",
   "execution_count": 4,
   "id": "598af3a7-8e36-4e97-8eb9-a7fd03eedae2",
   "metadata": {},
   "outputs": [
    {
     "data": {
      "text/plain": [
       "age               0\n",
       "status            0\n",
       "sex               0\n",
       "orientation       0\n",
       "body_type       308\n",
       "diet           2137\n",
       "drinks          114\n",
       "drugs           933\n",
       "education       378\n",
       "ethnicity       396\n",
       "height            0\n",
       "income            0\n",
       "job             176\n",
       "last_online       0\n",
       "location          0\n",
       "offspring      3079\n",
       "pets           1452\n",
       "religion       1276\n",
       "sign            724\n",
       "smokes          274\n",
       "speaks            3\n",
       "essay0          441\n",
       "essay1          647\n",
       "essay2          819\n",
       "essay3          984\n",
       "essay4         1004\n",
       "essay5         1040\n",
       "essay6         1207\n",
       "essay7         1072\n",
       "essay8         1614\n",
       "essay9         1049\n",
       "dtype: int64"
      ]
     },
     "execution_count": 4,
     "metadata": {},
     "output_type": "execute_result"
    }
   ],
   "source": [
    "df.isna().sum()"
   ]
  },
  {
   "cell_type": "code",
   "execution_count": 5,
   "id": "0b1a6d32-4f1b-45ea-875e-d839ce98da5e",
   "metadata": {},
   "outputs": [],
   "source": [
    "df = df.dropna( subset=[\"essay0\"] )"
   ]
  },
  {
   "cell_type": "code",
   "execution_count": 6,
   "id": "93f83fda-242d-42c5-a7cd-0c1c018e0cb0",
   "metadata": {},
   "outputs": [
    {
     "name": "stderr",
     "output_type": "stream",
     "text": [
      "[nltk_data] Downloading package vader_lexicon to\n",
      "[nltk_data]     C:\\Users\\Ahern\\AppData\\Roaming\\nltk_data...\n",
      "[nltk_data]   Package vader_lexicon is already up-to-date!\n"
     ]
    },
    {
     "data": {
      "text/plain": [
       "True"
      ]
     },
     "execution_count": 6,
     "metadata": {},
     "output_type": "execute_result"
    }
   ],
   "source": [
    "import nltk\n",
    "nltk.download('vader_lexicon')"
   ]
  },
  {
   "cell_type": "code",
   "execution_count": 7,
   "id": "8c40d2fe-ca05-471f-b45d-dcbc34d06d4f",
   "metadata": {},
   "outputs": [],
   "source": [
    "from nltk.sentiment import SentimentIntensityAnalyzer\n",
    "sia = SentimentIntensityAnalyzer()\n",
    "df['sentiment'] = [sia.polarity_scores(x)['compound'] for x in df['essay0']]"
   ]
  },
  {
   "cell_type": "code",
   "execution_count": 8,
   "id": "1f5cb1cd-d6e6-4d24-bc08-4d68cee86ab1",
   "metadata": {},
   "outputs": [],
   "source": [
    "import numpy\n",
    "rng = numpy.random.RandomState( 28 )\n",
    "from sklearn.model_selection import train_test_split\n",
    "X_train, X_test, y_train, y_test = train_test_split( df, df.age, random_state=rng, test_size=0.5 )"
   ]
  },
  {
   "cell_type": "code",
   "execution_count": 9,
   "id": "17466e4e-381e-4dbf-a3e7-fd1f382efd36",
   "metadata": {},
   "outputs": [],
   "source": [
    "lstNum = [ 'height', 'income', 'sentiment' ]\n",
    "lstCat = [ 'status', 'sex', 'orientation', 'body_type', 'diet', 'drinks', 'drugs', 'education', 'job', 'offspring', 'pets', 'religion', 'sign', 'smokes']"
   ]
  },
  {
   "cell_type": "code",
   "execution_count": 10,
   "id": "aa2cdeae-5cda-43ef-b9ca-c1b66da43982",
   "metadata": {},
   "outputs": [],
   "source": [
    "from sklearn.pipeline import Pipeline\n",
    "from sklearn.compose import ColumnTransformer\n",
    "from sklearn.preprocessing import StandardScaler\n",
    "pipeNum = Pipeline( [\n",
    "    (\"selector\", ColumnTransformer([ (\"selector\", \"passthrough\", lstNum ) ] )),\n",
    "    ('scaler', StandardScaler() )\n",
    "    ])\n",
    "from sklearn.preprocessing import OneHotEncoder\n",
    "pipeCat = Pipeline([\n",
    "    ('selector', ColumnTransformer([ (\"selector\", \"passthrough\", lstCat ) ] )),\n",
    "    ('encoder', OneHotEncoder( dtype=int, drop=\"first\", handle_unknown='ignore' ) )\n",
    "    ])"
   ]
  },
  {
   "cell_type": "code",
   "execution_count": 12,
   "id": "11971d2f-67c8-49a4-a994-2f73d26f39d3",
   "metadata": {},
   "outputs": [],
   "source": [
    "from sklearn.pipeline import FeatureUnion\n",
    "preprocessorBase = FeatureUnion([\n",
    "    ('cat', pipeCat ),\n",
    "    ('num', pipeNum )\n",
    "    ])"
   ]
  },
  {
   "cell_type": "code",
   "execution_count": 13,
   "id": "23c898da-b444-4367-bb0f-88883eb8a76e",
   "metadata": {},
   "outputs": [],
   "source": [
    "from xgboost import XGBRegressor\n",
    "pipeBase = Pipeline([\n",
    "    ('preprocessor', preprocessorBase ),\n",
    "    ('model', XGBRegressor() )\n",
    "    ])"
   ]
  },
  {
   "cell_type": "code",
   "execution_count": 14,
   "id": "96be0b7c-e4fd-4e7f-ade7-a99b85e05919",
   "metadata": {},
   "outputs": [
    {
     "name": "stderr",
     "output_type": "stream",
     "text": [
      "C:\\Users\\Ahern\\miniconda3\\lib\\site-packages\\sklearn\\preprocessing\\_encoders.py:188: UserWarning: Found unknown categories in columns [0, 7, 9, 11] during transform. These unknown categories will be encoded as all zeros\n",
      "  warnings.warn(\n"
     ]
    },
    {
     "data": {
      "text/plain": [
       "0.34689206957183727"
      ]
     },
     "execution_count": 14,
     "metadata": {},
     "output_type": "execute_result"
    }
   ],
   "source": [
    "pipeBase.fit( X_train, y_train )\n",
    "import sklearn.metrics\n",
    "predTestBase = pipeBase.predict( X_test )\n",
    "sklearn.metrics.r2_score( y_test, predTestBase )"
   ]
  },
  {
   "cell_type": "code",
   "execution_count": 17,
   "id": "3f5ad6e2-db88-4265-9c51-bbeeadeef05d",
   "metadata": {},
   "outputs": [],
   "source": [
    "from sklearn.decomposition import LatentDirichletAllocation\n",
    "from sklearn.feature_extraction.text import CountVectorizer\n",
    "\n",
    "pipeTextLda = Pipeline([\n",
    "    ('selector', ColumnTransformer([ (\"selector\",\n",
    "    CountVectorizer( max_features=1000, stop_words=\"english\" ),\n",
    "    'essay0' ) ] ) ),\n",
    "    ('topic', LatentDirichletAllocation( n_components=10 ) ),\n",
    "    ])\n",
    "preprocessorLda = FeatureUnion([\n",
    "    ('cat', pipeCat ),\n",
    "    ('text', pipeTextLda ),\n",
    "    ('num', pipeNum )\n",
    "    ])\n",
    "pipeLda = Pipeline([\n",
    "    ('preprocessor', preprocessorLda ),\n",
    "    ('model', XGBRegressor() )\n",
    "    ])"
   ]
  },
  {
   "cell_type": "code",
   "execution_count": 18,
   "id": "c0de4861-aeaf-45d8-a371-687711178763",
   "metadata": {},
   "outputs": [
    {
     "name": "stderr",
     "output_type": "stream",
     "text": [
      "C:\\Users\\Ahern\\miniconda3\\lib\\site-packages\\sklearn\\preprocessing\\_encoders.py:188: UserWarning: Found unknown categories in columns [0, 7, 9, 11] during transform. These unknown categories will be encoded as all zeros\n",
      "  warnings.warn(\n"
     ]
    },
    {
     "data": {
      "text/plain": [
       "0.3596034188475902"
      ]
     },
     "execution_count": 18,
     "metadata": {},
     "output_type": "execute_result"
    }
   ],
   "source": [
    "pipeLda.fit( X_train, y_train )\n",
    "predTestLda = pipeLda.predict( X_test )\n",
    "sklearn.metrics.r2_score( y_test, predTestLda )"
   ]
  },
  {
   "cell_type": "code",
   "execution_count": 21,
   "id": "971e7040-56f9-4d8f-9d09-d83106c934d5",
   "metadata": {},
   "outputs": [],
   "source": [
    "from sklearn.feature_extraction.text import TfidfVectorizer\n",
    "from sklearn.decomposition import NMF\n",
    "\n",
    "pipeTextNmf = Pipeline([\n",
    "    ('selector', ColumnTransformer([ (\"selector\",\n",
    "    TfidfVectorizer( max_features=1000, stop_words=\"english\" ),\n",
    "    'essay0' ) ] ) ),\n",
    "    ('topic', NMF( n_components=10, max_iter=2000 ) ),\n",
    "    ])\n",
    "preprocessorNmf = FeatureUnion([\n",
    "    ('cat', pipeCat ),\n",
    "    ('text', pipeTextNmf ),\n",
    "    ('num', pipeNum )\n",
    "    ])\n",
    "pipeNmf = Pipeline([\n",
    "    ('preprocessor', preprocessorNmf ),\n",
    "    ('model', XGBRegressor() )\n",
    "    ])"
   ]
  },
  {
   "cell_type": "code",
   "execution_count": 22,
   "id": "cac1e213-dfd9-4a82-b3e5-e7e101c4a56e",
   "metadata": {},
   "outputs": [
    {
     "name": "stderr",
     "output_type": "stream",
     "text": [
      "C:\\Users\\Ahern\\miniconda3\\lib\\site-packages\\sklearn\\preprocessing\\_encoders.py:188: UserWarning: Found unknown categories in columns [0, 7, 9, 11] during transform. These unknown categories will be encoded as all zeros\n",
      "  warnings.warn(\n"
     ]
    },
    {
     "data": {
      "text/plain": [
       "0.35192563076676375"
      ]
     },
     "execution_count": 22,
     "metadata": {},
     "output_type": "execute_result"
    }
   ],
   "source": [
    "pipeNmf.fit( X_train, y_train )\n",
    "predTestNmf = pipeNmf.predict( X_test )\n",
    "sklearn.metrics.r2_score( y_test, predTestNmf )"
   ]
  },
  {
   "cell_type": "code",
   "execution_count": 24,
   "id": "db07c09f-be69-41f5-b1e9-08e00f2f13da",
   "metadata": {},
   "outputs": [
    {
     "data": {
      "image/png": "[encoded data removed]",
      "text/plain": [
       "<Figure size 640x480 with 1 Axes>"
      ]
     },
     "metadata": {},
     "output_type": "display_data"
    }
   ],
   "source": [
    "import matplotlib.pyplot\n",
    "scatter = matplotlib.pyplot.scatter(predTestNmf, y_test )\n",
    "matplotlib.pyplot.xlabel('Predicted Age')\n",
    "matplotlib.pyplot.ylabel('Reported Age')\n",
    "matplotlib.pyplot.show()"
   ]
  },
  {
   "cell_type": "code",
   "execution_count": null,
   "id": "1b7f468a-ba11-4a2d-87b1-4f0b45f75483",
   "metadata": {},
   "outputs": [],
   "source": [
    "### PART II"
   ]
  },
  {
   "cell_type": "code",
   "execution_count": 25,
   "id": "1669fe97-d0d6-4067-9545-011f102ed741",
   "metadata": {},
   "outputs": [
    {
     "data": {
      "text/plain": [
       "MarketDate    datetime64[ns]\n",
       "movement              object\n",
       "Close                float64\n",
       "nextClose            float64\n",
       "Volume                 int64\n",
       "Open                 float64\n",
       "High                 float64\n",
       "Low                  float64\n",
       "dtype: object"
      ]
     },
     "execution_count": 25,
     "metadata": {},
     "output_type": "execute_result"
    }
   ],
   "source": [
    "import pandas\n",
    "df = pandas.read_csv( \"DJIA_table.csv\", parse_dates=[\"MarketDate\"] )\n",
    "df.dtypes"
   ]
  },
  {
   "cell_type": "code",
   "execution_count": 27,
   "id": "7bf71b6c-b4cd-4c14-bcb2-b33a9d3b68fe",
   "metadata": {},
   "outputs": [
    {
     "data": {
      "text/plain": [
       "Text(0, 0.5, 'Closing DJIA')"
      ]
     },
     "execution_count": 27,
     "metadata": {},
     "output_type": "execute_result"
    },
    {
     "data": {
      "image/png": "[encoded data removed]",
      "text/plain": [
       "<Figure size 640x480 with 1 Axes>"
      ]
     },
     "metadata": {},
     "output_type": "display_data"
    }
   ],
   "source": [
    "import matplotlib.pyplot\n",
    "matplotlib.pyplot.plot( df.MarketDate, df.Close, color = 'green', label = 'DJIA')\n",
    "matplotlib.pyplot.xlabel('Time')\n",
    "matplotlib.pyplot.ylabel('Closing DJIA')"
   ]
  },
  {
   "cell_type": "code",
   "execution_count": 28,
   "id": "671baca4-87f2-4d70-80d8-f39d86006dab",
   "metadata": {},
   "outputs": [],
   "source": [
    "from sklearn.preprocessing import StandardScaler\n",
    "sc = StandardScaler()\n",
    "sc.fit( df[ [\"Close\"] ] )\n",
    "df[ \"CloseScaled\" ] = sc.transform( df[ [\"Close\"] ] )"
   ]
  },
  {
   "cell_type": "code",
   "execution_count": 29,
   "id": "c15936c2-e621-4864-bf9c-b0bccbbfba5b",
   "metadata": {},
   "outputs": [],
   "source": [
    "lagdays = 60\n",
    "lenTrain = 1500\n",
    "X_train = []\n",
    "y_train = []\n",
    "for i in range( lagdays, lenTrain ):\n",
    "    X_train.append( df.loc[ i-lagdays:i, \"CloseScaled\"] )\n",
    "    y_train.append( df.loc[ i, \"CloseScaled\" ] )"
   ]
  },
  {
   "cell_type": "code",
   "execution_count": 30,
   "id": "2ee9e634-fd12-4abc-8d04-44054db7d581",
   "metadata": {},
   "outputs": [],
   "source": [
    "import numpy\n",
    "X_train = numpy.array(X_train)\n",
    "y_train = numpy.array(y_train)\n",
    "X_train = numpy.reshape(X_train, (X_train.shape[0], X_train.shape[1], 1))"
   ]
  },
  {
   "cell_type": "code",
   "execution_count": 32,
   "id": "b5b3d584-915d-48e5-973d-75c335c7b506",
   "metadata": {},
   "outputs": [],
   "source": [
    "from keras.models import Sequential\n",
    "from keras.layers import LSTM\n",
    "from keras.layers import Dropout\n",
    "from keras.layers import Dense\n",
    "numUnits = 50\n",
    "model = Sequential()\n",
    "model.add( LSTM(units=numUnits,return_sequences=True,input_shape=(X_train.shape[1], 1)) )\n",
    "model.add( Dropout(0.2) )\n",
    "model.add( LSTM(units=numUnits) )\n",
    "model.add( Dropout(0.2) )\n",
    "model.add( Dense(units=1) )\n",
    "model.compile( loss='mean_squared_error' )"
   ]
  },
  {
   "cell_type": "code",
   "execution_count": 33,
   "id": "84c46c1f-15b6-43ea-b372-0702d0d073cb",
   "metadata": {
    "collapsed": true,
    "jupyter": {
     "outputs_hidden": true
    },
    "tags": []
   },
   "outputs": [
    {
     "name": "stdout",
     "output_type": "stream",
     "text": [
      "Epoch 1/100\n",
      "45/45 [==============================] - 7s 41ms/step - loss: 0.0647\n",
      "Epoch 2/100\n",
      "45/45 [==============================] - 2s 35ms/step - loss: 0.0188\n",
      "Epoch 3/100\n",
      "45/45 [==============================] - 2s 35ms/step - loss: 0.0166\n",
      "Epoch 4/100\n",
      "45/45 [==============================] - 2s 35ms/step - loss: 0.0150\n",
      "Epoch 5/100\n",
      "45/45 [==============================] - 2s 35ms/step - loss: 0.0128\n",
      "Epoch 6/100\n",
      "45/45 [==============================] - 2s 35ms/step - loss: 0.0132\n",
      "Epoch 7/100\n",
      "45/45 [==============================] - 2s 37ms/step - loss: 0.0109\n",
      "Epoch 8/100\n",
      "45/45 [==============================] - 2s 36ms/step - loss: 0.0110\n",
      "Epoch 9/100\n",
      "45/45 [==============================] - 2s 36ms/step - loss: 0.0111\n",
      "Epoch 10/100\n",
      "45/45 [==============================] - 2s 35ms/step - loss: 0.0098\n",
      "Epoch 11/100\n",
      "45/45 [==============================] - 2s 36ms/step - loss: 0.0096\n",
      "Epoch 12/100\n",
      "45/45 [==============================] - 2s 36ms/step - loss: 0.0105\n",
      "Epoch 13/100\n",
      "45/45 [==============================] - 2s 37ms/step - loss: 0.0090\n",
      "Epoch 14/100\n",
      "45/45 [==============================] - 2s 36ms/step - loss: 0.0087\n",
      "Epoch 15/100\n",
      "45/45 [==============================] - 2s 35ms/step - loss: 0.0090\n",
      "Epoch 16/100\n",
      "45/45 [==============================] - 2s 37ms/step - loss: 0.0088\n",
      "Epoch 17/100\n",
      "45/45 [==============================] - 2s 37ms/step - loss: 0.0090\n",
      "Epoch 18/100\n",
      "45/45 [==============================] - 2s 35ms/step - loss: 0.0084\n",
      "Epoch 19/100\n",
      "45/45 [==============================] - 2s 36ms/step - loss: 0.0091\n",
      "Epoch 20/100\n",
      "45/45 [==============================] - 2s 35ms/step - loss: 0.0073\n",
      "Epoch 21/100\n",
      "45/45 [==============================] - 2s 36ms/step - loss: 0.0077\n",
      "Epoch 22/100\n",
      "45/45 [==============================] - 2s 37ms/step - loss: 0.0071\n",
      "Epoch 23/100\n",
      "45/45 [==============================] - 2s 36ms/step - loss: 0.0067\n",
      "Epoch 24/100\n",
      "45/45 [==============================] - 2s 36ms/step - loss: 0.0079\n",
      "Epoch 25/100\n",
      "45/45 [==============================] - 2s 36ms/step - loss: 0.0071\n",
      "Epoch 26/100\n",
      "45/45 [==============================] - 2s 36ms/step - loss: 0.0070\n",
      "Epoch 27/100\n",
      "45/45 [==============================] - 2s 36ms/step - loss: 0.0071\n",
      "Epoch 28/100\n",
      "45/45 [==============================] - 2s 37ms/step - loss: 0.0065\n",
      "Epoch 29/100\n",
      "45/45 [==============================] - 2s 36ms/step - loss: 0.0064\n",
      "Epoch 30/100\n",
      "45/45 [==============================] - 2s 36ms/step - loss: 0.0063\n",
      "Epoch 31/100\n",
      "45/45 [==============================] - 2s 35ms/step - loss: 0.0060\n",
      "Epoch 32/100\n",
      "45/45 [==============================] - 2s 37ms/step - loss: 0.0059\n",
      "Epoch 33/100\n",
      "45/45 [==============================] - 2s 35ms/step - loss: 0.0062\n",
      "Epoch 34/100\n",
      "45/45 [==============================] - 2s 35ms/step - loss: 0.0058\n",
      "Epoch 35/100\n",
      "45/45 [==============================] - 2s 36ms/step - loss: 0.0067\n",
      "Epoch 36/100\n",
      "45/45 [==============================] - 2s 35ms/step - loss: 0.0066\n",
      "Epoch 37/100\n",
      "45/45 [==============================] - 2s 36ms/step - loss: 0.0062\n",
      "Epoch 38/100\n",
      "45/45 [==============================] - 2s 37ms/step - loss: 0.0067\n",
      "Epoch 39/100\n",
      "45/45 [==============================] - 2s 36ms/step - loss: 0.0059\n",
      "Epoch 40/100\n",
      "45/45 [==============================] - 2s 35ms/step - loss: 0.0065\n",
      "Epoch 41/100\n",
      "45/45 [==============================] - 2s 35ms/step - loss: 0.0061\n",
      "Epoch 42/100\n",
      "45/45 [==============================] - 2s 35ms/step - loss: 0.0061\n",
      "Epoch 43/100\n",
      "45/45 [==============================] - 2s 36ms/step - loss: 0.0061\n",
      "Epoch 44/100\n",
      "45/45 [==============================] - 2s 35ms/step - loss: 0.0060\n",
      "Epoch 45/100\n",
      "45/45 [==============================] - 2s 37ms/step - loss: 0.0058\n",
      "Epoch 46/100\n",
      "45/45 [==============================] - 2s 37ms/step - loss: 0.0065\n",
      "Epoch 47/100\n",
      "45/45 [==============================] - 2s 36ms/step - loss: 0.0058\n",
      "Epoch 48/100\n",
      "45/45 [==============================] - 2s 37ms/step - loss: 0.0057\n",
      "Epoch 49/100\n",
      "45/45 [==============================] - 2s 36ms/step - loss: 0.0058\n",
      "Epoch 50/100\n",
      "45/45 [==============================] - 2s 36ms/step - loss: 0.0054\n",
      "Epoch 51/100\n",
      "45/45 [==============================] - 2s 36ms/step - loss: 0.0052\n",
      "Epoch 52/100\n",
      "45/45 [==============================] - 2s 37ms/step - loss: 0.0055\n",
      "Epoch 53/100\n",
      "45/45 [==============================] - 2s 36ms/step - loss: 0.0056\n",
      "Epoch 54/100\n",
      "45/45 [==============================] - 2s 36ms/step - loss: 0.0057\n",
      "Epoch 55/100\n",
      "45/45 [==============================] - 2s 36ms/step - loss: 0.0058\n",
      "Epoch 56/100\n",
      "45/45 [==============================] - 2s 36ms/step - loss: 0.0058\n",
      "Epoch 57/100\n",
      "45/45 [==============================] - 2s 36ms/step - loss: 0.0056\n",
      "Epoch 58/100\n",
      "45/45 [==============================] - 2s 36ms/step - loss: 0.0054\n",
      "Epoch 59/100\n",
      "45/45 [==============================] - 2s 37ms/step - loss: 0.0056\n",
      "Epoch 60/100\n",
      "45/45 [==============================] - 2s 37ms/step - loss: 0.0051\n",
      "Epoch 61/100\n",
      "45/45 [==============================] - 2s 36ms/step - loss: 0.0054\n",
      "Epoch 62/100\n",
      "45/45 [==============================] - 2s 36ms/step - loss: 0.0054\n",
      "Epoch 63/100\n",
      "45/45 [==============================] - 2s 35ms/step - loss: 0.0049\n",
      "Epoch 64/100\n",
      "45/45 [==============================] - 2s 36ms/step - loss: 0.0059\n",
      "Epoch 65/100\n",
      "45/45 [==============================] - 2s 36ms/step - loss: 0.0058\n",
      "Epoch 66/100\n",
      "45/45 [==============================] - 2s 37ms/step - loss: 0.0050\n",
      "Epoch 67/100\n",
      "45/45 [==============================] - 2s 35ms/step - loss: 0.0057\n",
      "Epoch 68/100\n",
      "45/45 [==============================] - 2s 36ms/step - loss: 0.0046\n",
      "Epoch 69/100\n",
      "45/45 [==============================] - 2s 37ms/step - loss: 0.0051\n",
      "Epoch 70/100\n",
      "45/45 [==============================] - 2s 36ms/step - loss: 0.0052\n",
      "Epoch 71/100\n",
      "45/45 [==============================] - 2s 36ms/step - loss: 0.0051\n",
      "Epoch 72/100\n",
      "45/45 [==============================] - 2s 35ms/step - loss: 0.0049\n",
      "Epoch 73/100\n",
      "45/45 [==============================] - 2s 36ms/step - loss: 0.0047\n",
      "Epoch 74/100\n",
      "45/45 [==============================] - 2s 37ms/step - loss: 0.0054\n",
      "Epoch 75/100\n",
      "45/45 [==============================] - 2s 36ms/step - loss: 0.0050\n",
      "Epoch 76/100\n",
      "45/45 [==============================] - 2s 39ms/step - loss: 0.0050\n",
      "Epoch 77/100\n",
      "45/45 [==============================] - 2s 37ms/step - loss: 0.0053\n",
      "Epoch 78/100\n",
      "45/45 [==============================] - 2s 37ms/step - loss: 0.0050\n",
      "Epoch 79/100\n",
      "45/45 [==============================] - 2s 36ms/step - loss: 0.0051\n",
      "Epoch 80/100\n",
      "45/45 [==============================] - 2s 36ms/step - loss: 0.0051\n",
      "Epoch 81/100\n",
      "45/45 [==============================] - 2s 37ms/step - loss: 0.0053\n",
      "Epoch 82/100\n",
      "45/45 [==============================] - 2s 37ms/step - loss: 0.0046\n",
      "Epoch 83/100\n",
      "45/45 [==============================] - 2s 36ms/step - loss: 0.0047\n",
      "Epoch 84/100\n",
      "45/45 [==============================] - 2s 36ms/step - loss: 0.0052\n",
      "Epoch 85/100\n",
      "45/45 [==============================] - 2s 36ms/step - loss: 0.0048\n",
      "Epoch 86/100\n",
      "45/45 [==============================] - 2s 35ms/step - loss: 0.0052\n",
      "Epoch 87/100\n",
      "45/45 [==============================] - 2s 35ms/step - loss: 0.0048\n",
      "Epoch 88/100\n",
      "45/45 [==============================] - 2s 36ms/step - loss: 0.0049\n",
      "Epoch 89/100\n",
      "45/45 [==============================] - 2s 36ms/step - loss: 0.0051\n",
      "Epoch 90/100\n",
      "45/45 [==============================] - 2s 36ms/step - loss: 0.0050\n",
      "Epoch 91/100\n",
      "45/45 [==============================] - 2s 36ms/step - loss: 0.0051\n",
      "Epoch 92/100\n",
      "45/45 [==============================] - 2s 36ms/step - loss: 0.0051\n",
      "Epoch 93/100\n",
      "45/45 [==============================] - 2s 36ms/step - loss: 0.0045\n",
      "Epoch 94/100\n",
      "45/45 [==============================] - 2s 36ms/step - loss: 0.0044\n",
      "Epoch 95/100\n",
      "45/45 [==============================] - 2s 35ms/step - loss: 0.0047\n",
      "Epoch 96/100\n",
      "45/45 [==============================] - 2s 36ms/step - loss: 0.0048\n",
      "Epoch 97/100\n",
      "45/45 [==============================] - 2s 36ms/step - loss: 0.0046\n",
      "Epoch 98/100\n",
      "45/45 [==============================] - 2s 36ms/step - loss: 0.0048\n",
      "Epoch 99/100\n",
      "45/45 [==============================] - 2s 36ms/step - loss: 0.0049\n",
      "Epoch 100/100\n",
      "45/45 [==============================] - 2s 36ms/step - loss: 0.0050\n"
     ]
    }
   ],
   "source": [
    "numEpochs = 100 # make yours small, maybe 10, in class\n",
    "modelLstm = model.fit(X_train,y_train,epochs=numEpochs )"
   ]
  },
  {
   "cell_type": "code",
   "execution_count": 34,
   "id": "36cb9989-f6c5-4299-a05a-19b7a5517bed",
   "metadata": {},
   "outputs": [
    {
     "data": {
      "text/plain": [
       "Text(0.5, 0, 'epoch')"
      ]
     },
     "execution_count": 34,
     "metadata": {},
     "output_type": "execute_result"
    },
    {
     "data": {
      "image/png": "[encoded data removed]",
      "text/plain": [
       "<Figure size 640x480 with 1 Axes>"
      ]
     },
     "metadata": {},
     "output_type": "display_data"
    }
   ],
   "source": [
    "matplotlib.pyplot.plot( modelLstm.history['loss'] )\n",
    "matplotlib.pyplot.ylabel('loss')\n",
    "matplotlib.pyplot.xlabel('epoch')"
   ]
  },
  {
   "cell_type": "code",
   "execution_count": 58,
   "id": "10f15016-81b5-4443-b9b9-ea5994546eeb",
   "metadata": {},
   "outputs": [
    {
     "ename": "AttributeError",
     "evalue": "'numpy.ndarray' object has no attribute 'append'",
     "output_type": "error",
     "traceback": [
      "\u001b[1;31m---------------------------------------------------------------------------\u001b[0m",
      "\u001b[1;31mAttributeError\u001b[0m                            Traceback (most recent call last)",
      "Input \u001b[1;32mIn [58]\u001b[0m, in \u001b[0;36m<cell line: 3>\u001b[1;34m()\u001b[0m\n\u001b[0;32m      2\u001b[0m X_test \u001b[38;5;241m=\u001b[39m []\n\u001b[0;32m      3\u001b[0m \u001b[38;5;28;01mfor\u001b[39;00m i \u001b[38;5;129;01min\u001b[39;00m \u001b[38;5;28mrange\u001b[39m( lagdays, \u001b[38;5;28mlen\u001b[39m(df)):\n\u001b[1;32m----> 4\u001b[0m     \u001b[43mX_test\u001b[49m\u001b[38;5;241;43m.\u001b[39;49m\u001b[43mappend\u001b[49m( df\u001b[38;5;241m.\u001b[39mloc[ i\u001b[38;5;241m-\u001b[39mlagdays:i, \u001b[38;5;124m\"\u001b[39m\u001b[38;5;124mCloseScaled\u001b[39m\u001b[38;5;124m\"\u001b[39m ] )\n\u001b[0;32m      5\u001b[0m     X_test \u001b[38;5;241m=\u001b[39m numpy\u001b[38;5;241m.\u001b[39marray(X_test)\n\u001b[0;32m      6\u001b[0m X_test \u001b[38;5;241m=\u001b[39m numpy\u001b[38;5;241m.\u001b[39mreshape(X_test, (X_test\u001b[38;5;241m.\u001b[39mshape[\u001b[38;5;241m0\u001b[39m], X_test\u001b[38;5;241m.\u001b[39mshape[\u001b[38;5;241m1\u001b[39m], \u001b[38;5;241m1\u001b[39m))\n",
      "\u001b[1;31mAttributeError\u001b[0m: 'numpy.ndarray' object has no attribute 'append'"
     ]
    }
   ],
   "source": [
    "import numpy\n",
    "X_test = []\n",
    "for i in range( lagdays, len(df)):\n",
    "    X_test.append( df.loc[ i-lagdays:i, \"CloseScaled\" ] )\n",
    "    X_test = numpy.array(X_test)\n",
    "X_test = numpy.reshape(X_test, (X_test.shape[0], X_test.shape[1], 1))"
   ]
  },
  {
   "cell_type": "code",
   "execution_count": 38,
   "id": "e1b254c4-f0c7-4b3c-b434-abecff361453",
   "metadata": {},
   "outputs": [
    {
     "name": "stdout",
     "output_type": "stream",
     "text": [
      "1/1 [==============================] - 1s 1s/step\n"
     ]
    }
   ],
   "source": [
    "df[ \"predictedScaled\" ] = numpy.NaN\n",
    "df.loc[ lagdays:len(df), \"predictedScaled\" ] = model.predict(X_test)\n",
    "df[ \"predicted\" ] = sc.inverse_transform( df[ [ \"predictedScaled\" ] ] )"
   ]
  },
  {
   "cell_type": "code",
   "execution_count": 53,
   "id": "1cf4e4eb-5e3c-4471-b673-33cde4619f8d",
   "metadata": {},
   "outputs": [
    {
     "data": {
      "text/plain": [
       "<matplotlib.legend.Legend at 0x1834ecf6280>"
      ]
     },
     "execution_count": 53,
     "metadata": {},
     "output_type": "execute_result"
    },
    {
     "data": {
      "image/png": "[encoded data removed]",
      "text/plain": [
       "<Figure size 640x480 with 1 Axes>"
      ]
     },
     "metadata": {},
     "output_type": "display_data"
    }
   ],
   "source": [
    "dfPlot = df[ lagdays+1:]\n",
    "matplotlib.pyplot.plot( dfPlot.MarketDate, dfPlot.Close,\n",
    "color = 'blue', label = 'DJIA')\n",
    "matplotlib.pyplot.plot( dfPlot.MarketDate, dfPlot.predicted, color = 'red', label = 'Predicted DJIA')\n",
    "matplotlib.pyplot.title('DJIA Prediction')\n",
    "matplotlib.pyplot.xlabel('Time')\n",
    "matplotlib.pyplot.ylabel('DJIA')\n",
    "matplotlib.pyplot.legend()"
   ]
  },
  {
   "cell_type": "code",
   "execution_count": null,
   "id": "69fc28a6-4dc7-4115-82b2-b4ef3d5c8366",
   "metadata": {},
   "outputs": [],
   "source": []
  }
 ],
 "metadata": {
  "kernelspec": {
   "display_name": "Python 3 (ipykernel)",
   "language": "python",
   "name": "python3"
  },
  "language_info": {
   "codemirror_mode": {
    "name": "ipython",
    "version": 3
   },
   "file_extension": ".py",
   "mimetype": "text/x-python",
   "name": "python",
   "nbconvert_exporter": "python",
   "pygments_lexer": "ipython3",
   "version": "3.9.13"
  }
 },
 "nbformat": 4,
 "nbformat_minor": 5
}
